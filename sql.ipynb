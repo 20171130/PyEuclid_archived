{
  "nbformat": 4,
  "nbformat_minor": 0,
  "metadata": {
    "colab": {
      "provenance": []
    },
    "kernelspec": {
      "name": "python3",
      "display_name": "Python 3"
    },
    "language_info": {
      "name": "python"
    }
  },
  "cells": [
    {
      "cell_type": "code",
      "execution_count": 1,
      "metadata": {
        "id": "riSNLSdPU1TU"
      },
      "outputs": [],
      "source": [
        "import sqlite3\n",
        "sqliteConnection = sqlite3.connect('sql.db')"
      ]
    },
    {
      "cell_type": "code",
      "source": [
        "cursor = sqliteConnection.cursor()"
      ],
      "metadata": {
        "id": "CqVLRs4NVQRR"
      },
      "execution_count": 4,
      "outputs": []
    },
    {
      "cell_type": "code",
      "source": [
        "\"\"\"\n",
        "points, segments\n",
        "between, sameside\n",
        "parallel, collinear, midpoint, congruent, similar, perpendicular, concyclic\n",
        "angle, angle_sum, length, length_ratio\n",
        "\"\"\"\n",
        "def create_table(name, n_points):\n",
        "  query = \"\"\n",
        "  for i in range(n_points):\n",
        "    query += f\"p{i} CHAR(10) NOT NULL,\"\n",
        "  for i in range(n_points):\n",
        "    query += f\"FOREIGN KEY(p{i}) REFERENCES points(name),\"\n",
        "  query = query[:-1]\n",
        "  query = f\"CREATE TABLE {name} ({query})\"\n",
        "  print(query)\n",
        "  cursor.execute(query)\n",
        "  return query\n",
        "points = \"\"\" CREATE TABLE points (\n",
        "            name CHAR(10) PRIMARY KEY NOT NULL\n",
        "        ); \"\"\"\n",
        "cursor.execute(points)\n",
        "create_table(\"segments\", 2)\n",
        "create_table(\"`between`\", 3)\n",
        "create_table(\"sameside\", 3)\n",
        "create_table(\"parallel\", 4)\n",
        "create_table(\"collinear\", 3)\n",
        "create_table(\"midpoint\", 2)\n",
        "create_table(\"congruent\", 6)\n",
        "create_table(\"similar\", 6)\n",
        "create_table(\"perpendicular\", 4)\n",
        "create_table(\"concyclic\", 4)"
      ],
      "metadata": {
        "colab": {
          "base_uri": "https://localhost:8080/",
          "height": 229
        },
        "id": "bgc2V2HMU-5u",
        "outputId": "71b7da80-ff14-4483-b084-f4aadaafc0ba"
      },
      "execution_count": 17,
      "outputs": [
        {
          "output_type": "stream",
          "name": "stdout",
          "text": [
            "CREATE TABLE `between` (p0 CHAR(10) NOT NULL,p1 CHAR(10) NOT NULL,p2 CHAR(10) NOT NULL,FOREIGN KEY(p0) REFERENCES points(name),FOREIGN KEY(p1) REFERENCES points(name),FOREIGN KEY(p2) REFERENCES points(name))\n",
            "CREATE TABLE sameside (p0 CHAR(10) NOT NULL,p1 CHAR(10) NOT NULL,p2 CHAR(10) NOT NULL,FOREIGN KEY(p0) REFERENCES points(name),FOREIGN KEY(p1) REFERENCES points(name),FOREIGN KEY(p2) REFERENCES points(name))\n",
            "CREATE TABLE parallel (p0 CHAR(10) NOT NULL,p1 CHAR(10) NOT NULL,p2 CHAR(10) NOT NULL,p3 CHAR(10) NOT NULL,FOREIGN KEY(p0) REFERENCES points(name),FOREIGN KEY(p1) REFERENCES points(name),FOREIGN KEY(p2) REFERENCES points(name),FOREIGN KEY(p3) REFERENCES points(name))\n",
            "CREATE TABLE collinear (p0 CHAR(10) NOT NULL,p1 CHAR(10) NOT NULL,p2 CHAR(10) NOT NULL,FOREIGN KEY(p0) REFERENCES points(name),FOREIGN KEY(p1) REFERENCES points(name),FOREIGN KEY(p2) REFERENCES points(name))\n",
            "CREATE TABLE midpoint (p0 CHAR(10) NOT NULL,p1 CHAR(10) NOT NULL,FOREIGN KEY(p0) REFERENCES points(name),FOREIGN KEY(p1) REFERENCES points(name))\n",
            "CREATE TABLE congruent (p0 CHAR(10) NOT NULL,p1 CHAR(10) NOT NULL,p2 CHAR(10) NOT NULL,p3 CHAR(10) NOT NULL,p4 CHAR(10) NOT NULL,p5 CHAR(10) NOT NULL,FOREIGN KEY(p0) REFERENCES points(name),FOREIGN KEY(p1) REFERENCES points(name),FOREIGN KEY(p2) REFERENCES points(name),FOREIGN KEY(p3) REFERENCES points(name),FOREIGN KEY(p4) REFERENCES points(name),FOREIGN KEY(p5) REFERENCES points(name))\n",
            "CREATE TABLE similar (p0 CHAR(10) NOT NULL,p1 CHAR(10) NOT NULL,p2 CHAR(10) NOT NULL,p3 CHAR(10) NOT NULL,p4 CHAR(10) NOT NULL,p5 CHAR(10) NOT NULL,FOREIGN KEY(p0) REFERENCES points(name),FOREIGN KEY(p1) REFERENCES points(name),FOREIGN KEY(p2) REFERENCES points(name),FOREIGN KEY(p3) REFERENCES points(name),FOREIGN KEY(p4) REFERENCES points(name),FOREIGN KEY(p5) REFERENCES points(name))\n",
            "CREATE TABLE perpendicular (p0 CHAR(10) NOT NULL,p1 CHAR(10) NOT NULL,p2 CHAR(10) NOT NULL,p3 CHAR(10) NOT NULL,FOREIGN KEY(p0) REFERENCES points(name),FOREIGN KEY(p1) REFERENCES points(name),FOREIGN KEY(p2) REFERENCES points(name),FOREIGN KEY(p3) REFERENCES points(name))\n",
            "CREATE TABLE concyclic (p0 CHAR(10) NOT NULL,p1 CHAR(10) NOT NULL,p2 CHAR(10) NOT NULL,p3 CHAR(10) NOT NULL,FOREIGN KEY(p0) REFERENCES points(name),FOREIGN KEY(p1) REFERENCES points(name),FOREIGN KEY(p2) REFERENCES points(name),FOREIGN KEY(p3) REFERENCES points(name))\n"
          ]
        },
        {
          "output_type": "execute_result",
          "data": {
            "text/plain": [
              "'CREATE TABLE concyclic (p0 CHAR(10) NOT NULL,p1 CHAR(10) NOT NULL,p2 CHAR(10) NOT NULL,p3 CHAR(10) NOT NULL,FOREIGN KEY(p0) REFERENCES points(name),FOREIGN KEY(p1) REFERENCES points(name),FOREIGN KEY(p2) REFERENCES points(name),FOREIGN KEY(p3) REFERENCES points(name))'"
            ],
            "application/vnd.google.colaboratory.intrinsic+json": {
              "type": "string"
            }
          },
          "metadata": {},
          "execution_count": 17
        }
      ]
    },
    {
      "cell_type": "code",
      "source": [
        "cursor.execute(\"SELECT name FROM sqlite_master WHERE type='table';\")\n",
        "cursor.fetchall()"
      ],
      "metadata": {
        "colab": {
          "base_uri": "https://localhost:8080/"
        },
        "id": "v7uWCGerVLMd",
        "outputId": "9280e447-c2c5-4c2a-9713-7e794e16eab9"
      },
      "execution_count": 57,
      "outputs": [
        {
          "output_type": "execute_result",
          "data": {
            "text/plain": [
              "[('GEEK',),\n",
              " ('points',),\n",
              " ('segments',),\n",
              " ('between',),\n",
              " ('sameside',),\n",
              " ('parallel',),\n",
              " ('collinear',),\n",
              " ('midpoint',),\n",
              " ('congruent',),\n",
              " ('similar',),\n",
              " ('perpendicular',),\n",
              " ('concyclic',)]"
            ]
          },
          "metadata": {},
          "execution_count": 57
        }
      ]
    },
    {
      "cell_type": "code",
      "source": [
        "cursor.execute(\"DELETE FROM parallel;\")\n",
        "cursor.fetchall()"
      ],
      "metadata": {
        "colab": {
          "base_uri": "https://localhost:8080/"
        },
        "id": "BLQ-bDtEgrAu",
        "outputId": "37dc3fe8-a500-4728-838f-8dfc03b04ce9"
      },
      "execution_count": 56,
      "outputs": [
        {
          "output_type": "execute_result",
          "data": {
            "text/plain": [
              "[]"
            ]
          },
          "metadata": {},
          "execution_count": 56
        }
      ]
    },
    {
      "cell_type": "code",
      "source": [
        "def insert_relation(relation, *points):\n",
        "  cols = \",\".join([f\"p{i}\" for i in range(len(points))])\n",
        "  values = \",\".join([f\"'{item}'\" for item in points])\n",
        "  for point in points:\n",
        "    query = f\"INSERT OR IGNORE INTO points (name) VALUES ('{point}');\"\n",
        "    cursor.execute(query)\n",
        "  query = f\"\"\"\n",
        "  INSERT INTO {relation} ({cols})\n",
        "  VALUES ({values});\n",
        "  \"\"\"\n",
        "  cursor.execute(query)\n",
        "insert_relation(\"parallel\", \"a\", \"b\", \"c\", \"d\")"
      ],
      "metadata": {
        "id": "HaATf81CVVhM"
      },
      "execution_count": 59,
      "outputs": []
    },
    {
      "cell_type": "code",
      "source": [
        "cursor.execute(\"SELECT * FROM parallel;\")\n",
        "cursor.fetchall()"
      ],
      "metadata": {
        "colab": {
          "base_uri": "https://localhost:8080/"
        },
        "id": "Zqn4eijhafQ-",
        "outputId": "e51bfd87-bc6c-4445-efe3-225ffbad1563"
      },
      "execution_count": 61,
      "outputs": [
        {
          "output_type": "execute_result",
          "data": {
            "text/plain": [
              "[('a', 'b', 'c', 'd')]"
            ]
          },
          "metadata": {},
          "execution_count": 61
        }
      ]
    },
    {
      "cell_type": "code",
      "source": [
        "def generate_query(formal_points, relations):\n",
        "  query = \"SELECT \"\n",
        "  for point in formal_points:\n",
        "    query += f\"{point}.name AS p{point}, \"\n",
        "  query = query[:-2] + \" \"\n",
        "  query += \"FROM \"\n",
        "  for point in formal_points:\n",
        "    query += f\"points {point}, \"\n",
        "  query = query[:-2]\n",
        "  for i, relation in enumerate(relations):\n",
        "    points = relation[1:]\n",
        "    relation = relation[0]\n",
        "    query += f\" INNER JOIN {relation} r{i} ON \"\n",
        "    for j in range(len(points)):\n",
        "      query += f\"{points[j]}.name = r{i}.p{j} AND \"\n",
        "    query = query[:-5]\n",
        "  cursor.execute(query)\n",
        "  results = cursor.fetchall()\n",
        "  return results\n",
        "generate_query([\"a\", \"b\", \"c\", \"d\"], [(\"parallel\", \"a\", \"b\", \"c\", \"d\"), (\"parallel\", \"a\", \"b\", \"c\", \"d\"), (\"parallel\", \"a\", \"b\", \"c\", \"d\")])"
      ],
      "metadata": {
        "colab": {
          "base_uri": "https://localhost:8080/"
        },
        "id": "gOTlXXqibPpo",
        "outputId": "7ec9731d-46e3-424e-d417-733a97db3595"
      },
      "execution_count": 62,
      "outputs": [
        {
          "output_type": "execute_result",
          "data": {
            "text/plain": [
              "[('a', 'b', 'c', 'd')]"
            ]
          },
          "metadata": {},
          "execution_count": 62
        }
      ]
    },
    {
      "cell_type": "code",
      "source": [],
      "metadata": {
        "id": "f11wqoCLeNKm"
      },
      "execution_count": null,
      "outputs": []
    }
  ]
}